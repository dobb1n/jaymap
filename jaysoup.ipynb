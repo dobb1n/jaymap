{
 "cells": [
  {
   "cell_type": "code",
   "execution_count": 36,
   "id": "c2ab3f27-114a-4ef2-96d4-848f481c5a21",
   "metadata": {},
   "outputs": [],
   "source": [
    "import requests\n",
    "import re\n",
    "from bs4 import BeautifulSoup\n",
    "\n",
    "api_key = ''\n",
    "page_size = 1\n",
    "page = 1\n",
    "#base url which looks for the jay tags \n",
    "url = f\"https://content.guardianapis.com/search?api-key={api_key}&tag=food/series/jay-rayner-on-restaurants&page-size={page_size}\""
   ]
  },
  {
   "cell_type": "code",
   "execution_count": 37,
   "id": "62f0a482-6770-4370-bc81-c46011275052",
   "metadata": {},
   "outputs": [],
   "source": [
    "#fetch the first page listing articles by jay\n",
    "response = requests.request(\"GET\", url)\n",
    "responsejson = response.json()"
   ]
  },
  {
   "cell_type": "code",
   "execution_count": 38,
   "id": "2d8fe178-90d5-47b2-91f5-d33fe3c73453",
   "metadata": {},
   "outputs": [
    {
     "data": {
      "text/plain": [
       "{'response': {'status': 'ok',\n",
       "  'userTier': 'developer',\n",
       "  'total': 1213,\n",
       "  'startIndex': 1,\n",
       "  'pageSize': 1,\n",
       "  'currentPage': 1,\n",
       "  'pages': 1213,\n",
       "  'orderBy': 'newest',\n",
       "  'results': [{'id': 'food/article/2024/may/19/arabic-flavour-aberystwyth-food-that-tells-a-story-restaurant-review',\n",
       "    'type': 'article',\n",
       "    'sectionId': 'food',\n",
       "    'sectionName': 'Food',\n",
       "    'webPublicationDate': '2024-05-19T05:00:26Z',\n",
       "    'webTitle': 'Arabic Flavour, Aberystwyth: ‘Food that tells a story’ – restaurant review',\n",
       "    'webUrl': 'https://www.theguardian.com/food/article/2024/may/19/arabic-flavour-aberystwyth-food-that-tells-a-story-restaurant-review',\n",
       "    'apiUrl': 'https://content.guardianapis.com/food/article/2024/may/19/arabic-flavour-aberystwyth-food-that-tells-a-story-restaurant-review',\n",
       "    'isHosted': False,\n",
       "    'pillarId': 'pillar/lifestyle',\n",
       "    'pillarName': 'Lifestyle'}]}}"
      ]
     },
     "execution_count": 38,
     "metadata": {},
     "output_type": "execute_result"
    }
   ],
   "source": [
    "responsejson"
   ]
  },
  {
   "cell_type": "code",
   "execution_count": 39,
   "id": "b8b5094f-304d-42dc-9276-fe0f88311b42",
   "metadata": {},
   "outputs": [
    {
     "name": "stdout",
     "output_type": "stream",
     "text": [
      "Visiting https://www.theguardian.com/food/article/2024/may/19/arabic-flavour-aberystwyth-food-that-tells-a-story-restaurant-review\n"
     ]
    }
   ],
   "source": [
    "if responsejson['response']['status'] == 'ok':\n",
    "    for result in responsejson['response']['results']:\n",
    "        print(f\"Visiting {result['webUrl']}\")\n",
    "        article_url = f\"{result['webUrl']}?api-key={api_key}\"\n",
    "        article = requests.request(\"GET\", article_url)"
   ]
  },
  {
   "cell_type": "code",
   "execution_count": 40,
   "id": "6eedc7da-a0f6-4fa5-883f-6f003a94734f",
   "metadata": {},
   "outputs": [],
   "source": [
    "soup = BeautifulSoup(article.content, 'html.parser')"
   ]
  },
  {
   "cell_type": "code",
   "execution_count": null,
   "id": "3f60255e-d77c-4e13-a855-85ef7ee37f02",
   "metadata": {},
   "outputs": [],
   "source": []
  },
  {
   "cell_type": "code",
   "execution_count": 43,
   "id": "af1ea5bb-d743-413e-bb6e-0cf1d310822c",
   "metadata": {},
   "outputs": [
    {
     "data": {
      "text/plain": [
       "<strong><a data-link-name=\"in body link\" href=\"https://arabic-flavour.square.site/\">Arabic Flavour</a>, 4 Northgate Street, Aberystwyth SY23 2JS (01970 228 078). Starters and meze £4.75-£8.25, mains £14.50-£18.95, desserts £2.95-£7.75, wines from £21</strong>"
      ]
     },
     "execution_count": 43,
     "metadata": {},
     "output_type": "execute_result"
    }
   ],
   "source": [
    "main_content = soup.find('div', {\"id\": \"maincontent\"})\n",
    "address = main_content.find('strong')\n",
    "address"
   ]
  },
  {
   "cell_type": "code",
   "execution_count": null,
   "id": "28b10fa2-3abe-4271-8457-4135be03822f",
   "metadata": {},
   "outputs": [],
   "source": []
  }
 ],
 "metadata": {
  "kernelspec": {
   "display_name": "Python 3 (ipykernel)",
   "language": "python",
   "name": "python3"
  },
  "language_info": {
   "codemirror_mode": {
    "name": "ipython",
    "version": 3
   },
   "file_extension": ".py",
   "mimetype": "text/x-python",
   "name": "python",
   "nbconvert_exporter": "python",
   "pygments_lexer": "ipython3",
   "version": "3.11.7"
  }
 },
 "nbformat": 4,
 "nbformat_minor": 5
}
